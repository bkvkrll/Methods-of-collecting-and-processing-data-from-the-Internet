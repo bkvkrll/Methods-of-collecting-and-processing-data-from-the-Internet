{
  "nbformat": 4,
  "nbformat_minor": 0,
  "metadata": {
    "colab": {
      "name": "Lesson1.ipynb",
      "provenance": [],
      "collapsed_sections": [],
      "authorship_tag": "ABX9TyOjrCD7eqWfwfCioW3BRN9t",
      "include_colab_link": true
    },
    "kernelspec": {
      "name": "python3",
      "display_name": "Python 3"
    },
    "language_info": {
      "name": "python"
    }
  },
  "cells": [
    {
      "cell_type": "markdown",
      "metadata": {
        "id": "view-in-github",
        "colab_type": "text"
      },
      "source": [
        "<a href=\"https://colab.research.google.com/github/bkvkrll/Methods-of-collecting-and-processing-data-from-the-Internet/blob/main/Lesson1.ipynb\" target=\"_parent\"><img src=\"https://colab.research.google.com/assets/colab-badge.svg\" alt=\"Open In Colab\"/></a>"
      ]
    },
    {
      "cell_type": "markdown",
      "metadata": {
        "id": "f_bDMis26Imx"
      },
      "source": [
        "# **Lesson 01**\n",
        "# **Основы клиент-серверного взаимодействия. Парсинг API**"
      ]
    },
    {
      "cell_type": "markdown",
      "metadata": {
        "id": "-E0JzJhG6Pkk"
      },
      "source": [
        "1. Посмотреть документацию к API GitHub, разобраться как вывести список репозиториев для конкретного пользователя, сохранить JSON-вывод в файле *.json."
      ]
    },
    {
      "cell_type": "code",
      "metadata": {
        "id": "quhPMbfS6MKE"
      },
      "source": [
        "import requests\n",
        "import json"
      ],
      "execution_count": 1,
      "outputs": []
    },
    {
      "cell_type": "code",
      "metadata": {
        "id": "OS20C7DE6XCD"
      },
      "source": [
        "url = 'https://api.github.com'\n",
        "user='bkvkrll'"
      ],
      "execution_count": 2,
      "outputs": []
    },
    {
      "cell_type": "code",
      "metadata": {
        "id": "RqZP1Gmz68bL"
      },
      "source": [
        "req = requests.get(f'{url}/users/{user}/repos')"
      ],
      "execution_count": 3,
      "outputs": []
    },
    {
      "cell_type": "code",
      "metadata": {
        "id": "-a6JakpB6_K7"
      },
      "source": [
        "with open('repo_list.json', 'w') as f:\n",
        "    json.dump(req.json(), f)"
      ],
      "execution_count": 6,
      "outputs": []
    },
    {
      "cell_type": "code",
      "metadata": {
        "colab": {
          "base_uri": "https://localhost:8080/"
        },
        "id": "mMNxJ1FR7GOU",
        "outputId": "c4587617-8c1a-4f76-a5eb-2ad2eda2982b"
      },
      "source": [
        "for i in req.json():\n",
        "    print(i['name'])"
      ],
      "execution_count": 7,
      "outputs": [
        {
          "output_type": "stream",
          "text": [
            "-Python-Data-Science-Numpy-Matplotlib-Scikit-learn\n",
            "Methods-of-collecting-and-processing-data-from-the-Internet\n",
            "project\n",
            "Python-Libraries-for-Data-Science-Continued\n",
            "repo-github\n"
          ],
          "name": "stdout"
        }
      ]
    },
    {
      "cell_type": "markdown",
      "metadata": {
        "id": "K75MZk967TAj"
      },
      "source": [
        "2.Изучить список открытых API. Найти среди них любое, требующее авторизацию (любого типа). Выполнить запросы к нему, пройдя авторизацию. Ответ сервера записать в файл."
      ]
    },
    {
      "cell_type": "code",
      "metadata": {
        "id": "RlOPW5yI7YQr"
      },
      "source": [
        "url = 'https://api.nasa.gov/planetary/apod?api_key=jVKHwO5BsKZEIKPqdOs9NwggcAaVN1Ffg9e53cK6'\n"
      ],
      "execution_count": 11,
      "outputs": []
    },
    {
      "cell_type": "code",
      "metadata": {
        "id": "UUMj_n089UAK"
      },
      "source": [
        "req = requests.get(f'{url}')"
      ],
      "execution_count": 12,
      "outputs": []
    },
    {
      "cell_type": "code",
      "metadata": {
        "colab": {
          "base_uri": "https://localhost:8080/"
        },
        "id": "6wxap_mE9eKa",
        "outputId": "f34ee35e-4b82-44b1-b209-e74982ed0484"
      },
      "source": [
        "print(req)"
      ],
      "execution_count": 13,
      "outputs": [
        {
          "output_type": "stream",
          "text": [
            "<Response [200]>\n"
          ],
          "name": "stdout"
        }
      ]
    },
    {
      "cell_type": "code",
      "metadata": {
        "id": "kS7Jd_xZ9vQB"
      },
      "source": [
        "with open('answer_list.json', 'w') as f:\n",
        "    json.dump(req.json(), f)"
      ],
      "execution_count": 14,
      "outputs": []
    }
  ]
}